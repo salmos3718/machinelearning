{
  "nbformat": 4,
  "nbformat_minor": 0,
  "metadata": {
    "colab": {
      "name": "python_class.ipynb",
      "provenance": [],
      "collapsed_sections": [],
      "authorship_tag": "ABX9TyOBIptibJlXUQPjly74RBr8",
      "include_colab_link": true
    },
    "kernelspec": {
      "name": "python3",
      "display_name": "Python 3"
    }
  },
  "cells": [
    {
      "cell_type": "markdown",
      "metadata": {
        "id": "view-in-github",
        "colab_type": "text"
      },
      "source": [
        "<a href=\"https://colab.research.google.com/github/salmos3718/machinelearning/blob/master/python_class.ipynb\" target=\"_parent\"><img src=\"https://colab.research.google.com/assets/colab-badge.svg\" alt=\"Open In Colab\"/></a>"
      ]
    },
    {
      "cell_type": "code",
      "metadata": {
        "colab": {
          "base_uri": "https://localhost:8080/"
        },
        "id": "7j5Sf6U_iJKk",
        "outputId": "01dd1141-dffb-4f11-c4a5-2fa3df60ead3"
      },
      "source": [
        "print(\"Hello world!\")\n"
      ],
      "execution_count": null,
      "outputs": [
        {
          "output_type": "stream",
          "text": [
            "Hello world!\n"
          ],
          "name": "stdout"
        }
      ]
    },
    {
      "cell_type": "code",
      "metadata": {
        "colab": {
          "base_uri": "https://localhost:8080/",
          "height": 339
        },
        "id": "i9Q0rlJ7yBJG",
        "outputId": "2a8d1e4c-3b54-4c37-bac8-192d80ac6d68"
      },
      "source": [
        "from os import getenv\r\n",
        "import pymssql\r\n",
        "\r\n",
        "\r\n",
        "server = getenv(\"SQLSERVER\")\r\n",
        "user = getenv(\"USER\")\r\n",
        "password = getenv(\"MYPWD\")\r\n",
        "\r\n",
        "cnxn= pymssql.connect(server, user, password, \"tempdb\")\r\n",
        "cursor = cnxn.cursor()\r\n",
        "cursor.execute(\"\"\"\r\n",
        "\r\n",
        "CREATE TABLE Sales (\r\n",
        "    Sales_Order_Id INT,\r\n",
        "    Sales_Order_Item NVARCHAR(300),\r\n",
        "    Customer_ID INT,\r\n",
        "    Date datetime,\r\n",
        "    Transaction_Value DECIMAL (10,30)\r\n",
        ")\r\n",
        "\"\"\")\r\n",
        "cnxn.commit()"
      ],
      "execution_count": null,
      "outputs": [
        {
          "output_type": "error",
          "ename": "TypeError",
          "evalue": "ignored",
          "traceback": [
            "\u001b[0;31m---------------------------------------------------------------------------\u001b[0m",
            "\u001b[0;31mTypeError\u001b[0m                                 Traceback (most recent call last)",
            "\u001b[0;32m<ipython-input-13-4e8a3076ac53>\u001b[0m in \u001b[0;36m<module>\u001b[0;34m()\u001b[0m\n\u001b[1;32m      7\u001b[0m \u001b[0mpassword\u001b[0m \u001b[0;34m=\u001b[0m \u001b[0mgetenv\u001b[0m\u001b[0;34m(\u001b[0m\u001b[0;34m\"MYPWD\"\u001b[0m\u001b[0;34m)\u001b[0m\u001b[0;34m\u001b[0m\u001b[0;34m\u001b[0m\u001b[0m\n\u001b[1;32m      8\u001b[0m \u001b[0;34m\u001b[0m\u001b[0m\n\u001b[0;32m----> 9\u001b[0;31m \u001b[0mcnxn\u001b[0m\u001b[0;34m=\u001b[0m \u001b[0mpymssql\u001b[0m\u001b[0;34m.\u001b[0m\u001b[0mconnect\u001b[0m\u001b[0;34m(\u001b[0m\u001b[0mserver\u001b[0m\u001b[0;34m,\u001b[0m \u001b[0muser\u001b[0m\u001b[0;34m,\u001b[0m \u001b[0mpassword\u001b[0m\u001b[0;34m,\u001b[0m \u001b[0;34m\"tempdb\"\u001b[0m\u001b[0;34m)\u001b[0m\u001b[0;34m\u001b[0m\u001b[0;34m\u001b[0m\u001b[0m\n\u001b[0m\u001b[1;32m     10\u001b[0m \u001b[0mcursor\u001b[0m \u001b[0;34m=\u001b[0m \u001b[0mcnxn\u001b[0m\u001b[0;34m.\u001b[0m\u001b[0mcursor\u001b[0m\u001b[0;34m(\u001b[0m\u001b[0;34m)\u001b[0m\u001b[0;34m\u001b[0m\u001b[0;34m\u001b[0m\u001b[0m\n\u001b[1;32m     11\u001b[0m cursor.execute(\"\"\"\n",
            "\u001b[0;32msrc/pymssql.pyx\u001b[0m in \u001b[0;36mpymssql.connect\u001b[0;34m()\u001b[0m\n",
            "\u001b[0;32msrc/_mssql.pyx\u001b[0m in \u001b[0;36m_mssql.connect\u001b[0;34m()\u001b[0m\n",
            "\u001b[0;32msrc/_mssql.pyx\u001b[0m in \u001b[0;36m_mssql.MSSQLConnection.__init__\u001b[0;34m()\u001b[0m\n",
            "\u001b[0;31mTypeError\u001b[0m: argument of type 'NoneType' is not iterable"
          ]
        }
      ]
    },
    {
      "cell_type": "code",
      "metadata": {
        "colab": {
          "base_uri": "https://localhost:8080/"
        },
        "id": "1sIT41eE3nAU",
        "outputId": "2cbcac2c-401d-416c-a7c1-b1b564d32f3c"
      },
      "source": [
        "import sqlite3\r\n",
        "\r\n",
        "#Connecting to sqlite\r\n",
        "conn = sqlite3.connect('example.db')\r\n",
        "\r\n",
        "#Creating a cursor object using the cursor() method\r\n",
        "cursor = conn.cursor()\r\n",
        "\r\n",
        "#Doping SALES/DISCOUNTS table if already exists.\r\n",
        "cursor.execute(\"DROP TABLE IF EXISTS SALES\")\r\n",
        "cursor.execute(\"DROP TABLE IF EXISTS DISCOUNTS\")\r\n",
        "\r\n",
        "\r\n",
        "#Creating table as per requirement\r\n",
        "sql ='''CREATE TABLE Sales (\r\n",
        "    Sales_Order_Id INT,\r\n",
        "    Sales_Order_Item NVARCHAR(300),\r\n",
        "    Customer_ID INT,\r\n",
        "    Date datetime,\r\n",
        "    Transaction_Value DECIMAL (10,30)\r\n",
        ")'''\r\n",
        "cursor.execute(sql)\r\n",
        "print(\"Sales Table created successfully........\")\r\n",
        "\r\n",
        "#Creating table as per requirement\r\n",
        "sql2 ='''CREATE TABLE Discounts (\r\n",
        "    Sales_Order_Id INT,\r\n",
        "    Customer_ID INT,\r\n",
        "    Discount_Value DECIMAL (10,30)\r\n",
        ")'''\r\n",
        "cursor.execute(sql2)\r\n",
        "print(\"Discounts Table created successfully........\")\r\n",
        "\r\n",
        "# Commit your changes in the database\r\n",
        "conn.commit()\r\n",
        "\r\n",
        "#Closing the connection\r\n",
        "conn.close()"
      ],
      "execution_count": null,
      "outputs": [
        {
          "output_type": "stream",
          "text": [
            "Sales Table created successfully........\n",
            "Discounts Table created successfully........\n"
          ],
          "name": "stdout"
        }
      ]
    },
    {
      "cell_type": "code",
      "metadata": {
        "colab": {
          "base_uri": "https://localhost:8080/"
        },
        "id": "Xg-EG8os5yCN",
        "outputId": "f3e517ec-1db8-4fae-8d28-08476d914e73"
      },
      "source": [
        "import sqlite3\r\n",
        "\r\n",
        "#Connecting to sqlite\r\n",
        "conn = sqlite3.connect('example.db')\r\n",
        "\r\n",
        "#Creating a cursor object using the cursor() method\r\n",
        "cursor = conn.cursor()\r\n",
        "\r\n",
        "#Retrieving data\r\n",
        "sql = '''SELECT a.Sales_Order_Id,a.Sales_Order_Item,\r\n",
        "a.Customer_ID,\r\n",
        "a.Date,\r\n",
        "a.Transaction_Value,\r\n",
        "b.Discount_Value,\r\n",
        "a.Transaction_Value - b.Discount_Value as \"Discount_Applied\",\r\n",
        "case when b.Discount_Value < 0 then a.Transaction_Value - abs(b.Discount_Value) else a.Transaction_Value - b.Discount_Value end as \"Discount_Applied\"\r\n",
        "from Sales a \r\n",
        "LEFT JOIN Discounts b \r\n",
        "ON a.Sales_Order_Id = b.Sales_Order_Id \r\n",
        "AND a.Customer_ID = b.Customer_ID\r\n",
        "'''\r\n",
        "\r\n",
        "#Executing the query\r\n",
        "cursor.execute(sql)\r\n",
        "\r\n",
        "#Fetching 1st row from the table\r\n",
        "result = cursor.fetchall();\r\n",
        "print(result)\r\n",
        "\r\n",
        "#Commit your changes in the database\r\n",
        "conn.commit()\r\n",
        "\r\n",
        "#Closing the connection\r\n",
        "conn.close()"
      ],
      "execution_count": null,
      "outputs": [
        {
          "output_type": "stream",
          "text": [
            "[]\n"
          ],
          "name": "stdout"
        }
      ]
    },
    {
      "cell_type": "code",
      "metadata": {
        "colab": {
          "base_uri": "https://localhost:8080/"
        },
        "id": "09oO4lf146ID",
        "outputId": "1910d834-f4b6-46d4-f582-28806bc81454"
      },
      "source": [
        "import sqlite3\r\n",
        "\r\n",
        "#Connecting to sqlite\r\n",
        "conn = sqlite3.connect('example.db')\r\n",
        "\r\n",
        "#Creating a cursor object using the cursor() method\r\n",
        "cursor = conn.cursor()\r\n",
        "\r\n",
        "\r\n",
        "#Creating table as per requirement\r\n",
        "sql ='''DROP TABLE Sales'''\r\n",
        "cursor.execute(sql)\r\n",
        "print(\"Sales Table dropped successfully........\")\r\n",
        "\r\n",
        "\r\n",
        "# Commit your changes in the database\r\n",
        "conn.commit()\r\n",
        "\r\n",
        "#Closing the connection\r\n",
        "conn.close()"
      ],
      "execution_count": null,
      "outputs": [
        {
          "output_type": "stream",
          "text": [
            "Sales Table dropped successfully........\n"
          ],
          "name": "stdout"
        }
      ]
    },
    {
      "cell_type": "code",
      "metadata": {
        "id": "XngZiPhVMKgo",
        "colab": {
          "base_uri": "https://localhost:8080/"
        },
        "outputId": "a3997196-a6ab-4381-e237-05b914e13a77"
      },
      "source": [
        "!pip install pymssql"
      ],
      "execution_count": null,
      "outputs": [
        {
          "output_type": "stream",
          "text": [
            "Collecting pymssql\n",
            "\u001b[?25l  Downloading https://files.pythonhosted.org/packages/fe/aa/59c7c8a2cf1ef0726cd4c64bff7072147db8cbb6b4379fb0c3d7c67331b9/pymssql-2.1.5-cp36-cp36m-manylinux1_x86_64.whl (1.3MB)\n",
            "\u001b[K     |████████████████████████████████| 1.3MB 5.2MB/s \n",
            "\u001b[?25hInstalling collected packages: pymssql\n",
            "Successfully installed pymssql-2.1.5\n"
          ],
          "name": "stdout"
        }
      ]
    },
    {
      "cell_type": "code",
      "metadata": {
        "colab": {
          "base_uri": "https://localhost:8080/"
        },
        "id": "DgOvg4vGiez9",
        "outputId": "a6b93ec4-b5c0-43f0-cd27-75545fb7f309"
      },
      "source": [
        "pip --version"
      ],
      "execution_count": null,
      "outputs": [
        {
          "output_type": "stream",
          "text": [
            "pip 19.3.1 from /usr/local/lib/python3.6/dist-packages/pip (python 3.6)\n"
          ],
          "name": "stdout"
        }
      ]
    },
    {
      "cell_type": "code",
      "metadata": {
        "colab": {
          "base_uri": "https://localhost:8080/"
        },
        "id": "kD806EBOi5lG",
        "outputId": "daefa039-6104-4bdb-98d6-775445327d03"
      },
      "source": [
        "from datetime import date\n",
        "from datetime import time\n",
        "from datetime import datetime\n",
        "def main():\n",
        "    print(\"hello world!\")\n",
        "    name = input(\"Qual é seu nome ? \")\n",
        "    print(\"Prazer em te conhecer,\", name)\n",
        "    ano = int(input(\"Em que ano voce nasceu ? \"))\n",
        "    print(\"Legal voce tem \", 2020-ano)\n",
        "    \n",
        "    today = date.today()\n",
        "    print (\"Hoje e: \" , today.year)\n",
        "    print(\"Legal voce tem \", today.year-ano)\n",
        "    print (\"Dia da semana \" , today.weekday())      \n",
        "\n",
        "if __name__ == \"__main__\":\n",
        "    main()\n"
      ],
      "execution_count": null,
      "outputs": [
        {
          "output_type": "stream",
          "text": [
            "hello world!\n",
            "Qual é seu nome ? c\n",
            "Prazer em te conhecer, c\n",
            "Em que ano voce nasceu ? 1980\n",
            "Legal voce tem  40\n",
            "Hoje e:  2020\n",
            "Legal voce tem  40\n",
            "Hoje e:  4\n"
          ],
          "name": "stdout"
        }
      ]
    },
    {
      "cell_type": "code",
      "metadata": {
        "colab": {
          "base_uri": "https://localhost:8080/"
        },
        "id": "OUpc4HOn3S4T",
        "outputId": "a9c05d8e-6427-4c47-8dbe-a802a67bd883"
      },
      "source": [
        "from datetime import date\n",
        "from datetime import time\n",
        "from datetime import datetime\n",
        "\n",
        "days = [\"Segunda\",\"Terca\", \"Quarta\", \"Quinta\", \"Sexta\", \"Sabado\", \"Domingo\"]\n",
        "\n",
        "print (\"Dia da semana\",days[today.weekday()])\n",
        "\n",
        "now = datetime.now()\n",
        "\n",
        "print (now)\n",
        "\n",
        "print (now.strftime(\"Current year is : %Y \"))\n",
        "\n",
        "print (now.strftime(\" %a, %d, %B, %y\"))"
      ],
      "execution_count": null,
      "outputs": [
        {
          "output_type": "stream",
          "text": [
            "Dia da semana Sexta\n",
            "2020-11-27 18:13:59.592239\n",
            "Current year is : 2020 \n",
            " Fri, 27, November, 20\n"
          ],
          "name": "stdout"
        }
      ]
    },
    {
      "cell_type": "code",
      "metadata": {
        "colab": {
          "base_uri": "https://localhost:8080/"
        },
        "id": "Uyd2gh6aC_Lp",
        "outputId": "0b01e7c8-92a3-42f5-a576-cc2e2b5af4da"
      },
      "source": [
        "from datetime import date\n",
        "from datetime import time\n",
        "from datetime import datetime\n",
        "\n",
        "\n",
        "\n",
        "#today=date.today()\n",
        "#days=[\"Sun\",\"Mon\",\"Tue\",\"Wed\",\"Thu\",\"Fri\",\"Sat\"]\n",
        "#print(\"Tomorrow will be \"+days[(today.weekday()+1])\n",
        "\n",
        "today=date.today()\n",
        "days=[\"Mon\",\"Tue\",\"Wed\",\"Thu\",\"Fri\",\"Sat\",\"Sun\"]\n",
        "print(\"Tomorrow will be \"+days[(today.weekday()+1)%7])\n",
        "\n",
        "\n",
        "today=date.today()\n",
        "days=[\"Mon\",\"Tue\",\"Wed\",\"Thu\",\"Fri\",\"Sat\",\"Sun\"]\n",
        "print(\"Tomorrow will be \"+days[today.weekday()+1])\n",
        "\n",
        "\n",
        "#today=date.today()\n",
        "#days=[\"Sun\",\"Mon\",\"Tue\",\"Wed\",\"Thu\",\"Fri\",\"Sat\"]\n",
        "#print(\"Tomorrow will be \"+days[(today.weekday()+1)/7])"
      ],
      "execution_count": null,
      "outputs": [
        {
          "output_type": "stream",
          "text": [
            "Tomorrow will be Sat\n",
            "Tomorrow will be Sat\n"
          ],
          "name": "stdout"
        }
      ]
    },
    {
      "cell_type": "code",
      "metadata": {
        "colab": {
          "base_uri": "https://localhost:8080/"
        },
        "id": "GlCzr-dkDVB9",
        "outputId": "724fd100-7d63-4e3c-fa39-bd627b72b58c"
      },
      "source": [
        "from datetime import date\n",
        "from datetime import time\n",
        "from datetime import datetime\n",
        "\n",
        "print (date.today())\n",
        "#print (datetime(date.today()))\n",
        "print (datetime.date(datetime.now()))\n",
        "#print (datetime.time(datetime.now))\n",
        "#print (datetime.date())\n"
      ],
      "execution_count": null,
      "outputs": [
        {
          "output_type": "stream",
          "text": [
            "2020-11-27\n",
            "2020-11-27\n"
          ],
          "name": "stdout"
        }
      ]
    },
    {
      "cell_type": "code",
      "metadata": {
        "colab": {
          "base_uri": "https://localhost:8080/"
        },
        "id": "lLqzKuBB9-jb",
        "outputId": "056052ac-cdf9-4143-984d-dea456e46570"
      },
      "source": [
        "import calendar\n",
        "\n",
        "\n",
        "c = calendar.TextCalendar(calendar.SUNDAY)\n",
        "st = c.formatmonth(2020,1,0,0)\n",
        "print(st)\n"
      ],
      "execution_count": null,
      "outputs": [
        {
          "output_type": "stream",
          "text": [
            "    January 2020\n",
            "Su Mo Tu We Th Fr Sa\n",
            "          1  2  3  4\n",
            " 5  6  7  8  9 10 11\n",
            "12 13 14 15 16 17 18\n",
            "19 20 21 22 23 24 25\n",
            "26 27 28 29 30 31\n",
            "\n"
          ],
          "name": "stdout"
        }
      ]
    },
    {
      "cell_type": "code",
      "metadata": {
        "colab": {
          "base_uri": "https://localhost:8080/"
        },
        "id": "KNkw2-5cA7sF",
        "outputId": "c18c44eb-1814-4789-c692-d715ec578765"
      },
      "source": [
        "from datetime import date\n",
        "from datetime import time\n",
        "from datetime import datetime\n",
        "\n",
        "\n",
        "\n",
        "print(now.strftime(\"%d\"))\n",
        "\n",
        "\n",
        "print(now.strftime(\"%Y\"))\n",
        "\n",
        "\n",
        "print(now.strftime(\"%M\"))\n",
        "\n",
        "\n",
        "print(now.strftime(\"%c\"))\n"
      ],
      "execution_count": null,
      "outputs": [
        {
          "output_type": "stream",
          "text": [
            "27\n",
            "2020\n",
            "13\n",
            "Fri Nov 27 18:13:59 2020\n"
          ],
          "name": "stdout"
        }
      ]
    },
    {
      "cell_type": "code",
      "metadata": {
        "colab": {
          "base_uri": "https://localhost:8080/",
          "height": 235
        },
        "id": "bMAxZr9XBcgt",
        "outputId": "dabca23b-12da-4e6b-a68f-726fef8b9160"
      },
      "source": [
        "from datetime import date\n",
        "\n",
        "#now=date.now()\n",
        "#print(now.strftime(\"%B-%D-%Y %H:%M:%S\"))\n",
        "\n",
        "now=datetime.now()\n",
        "print(now.strftime(\"%d-%b-%Y %h:%m:%S\"))\n",
        "\n",
        "now=datetime.now()\n",
        "print(now.strftime(\"%d-%b-%Y %H:%M:%S\"))\n",
        "\n",
        "print(datetime(\"%d-%B-%Y %H:%m:%S\"))"
      ],
      "execution_count": null,
      "outputs": [
        {
          "output_type": "stream",
          "text": [
            "27-Nov-2020 Nov:11:48\n",
            "27-Nov-2020 18:45:48\n"
          ],
          "name": "stdout"
        },
        {
          "output_type": "error",
          "ename": "TypeError",
          "evalue": "ignored",
          "traceback": [
            "\u001b[0;31m---------------------------------------------------------------------------\u001b[0m",
            "\u001b[0;31mTypeError\u001b[0m                                 Traceback (most recent call last)",
            "\u001b[0;32m<ipython-input-109-5b09aaf7d068>\u001b[0m in \u001b[0;36m<module>\u001b[0;34m()\u001b[0m\n\u001b[1;32m     10\u001b[0m \u001b[0mprint\u001b[0m\u001b[0;34m(\u001b[0m\u001b[0mnow\u001b[0m\u001b[0;34m.\u001b[0m\u001b[0mstrftime\u001b[0m\u001b[0;34m(\u001b[0m\u001b[0;34m\"%d-%b-%Y %H:%M:%S\"\u001b[0m\u001b[0;34m)\u001b[0m\u001b[0;34m)\u001b[0m\u001b[0;34m\u001b[0m\u001b[0;34m\u001b[0m\u001b[0m\n\u001b[1;32m     11\u001b[0m \u001b[0;34m\u001b[0m\u001b[0m\n\u001b[0;32m---> 12\u001b[0;31m \u001b[0mprint\u001b[0m\u001b[0;34m(\u001b[0m\u001b[0mdatetime\u001b[0m\u001b[0;34m(\u001b[0m\u001b[0;34m\"%d-%B-%Y %H:%m:%S\"\u001b[0m\u001b[0;34m)\u001b[0m\u001b[0;34m)\u001b[0m\u001b[0;34m\u001b[0m\u001b[0;34m\u001b[0m\u001b[0m\n\u001b[0m",
            "\u001b[0;31mTypeError\u001b[0m: an integer is required (got type str)"
          ]
        }
      ]
    },
    {
      "cell_type": "code",
      "metadata": {
        "colab": {
          "base_uri": "https://localhost:8080/"
        },
        "id": "obSaBrOhB1bf",
        "outputId": "33e9ea43-716f-4d38-fede-71f4c79daaaa"
      },
      "source": [
        "from datetime import date\n",
        "from datetime import time\n",
        "from datetime import datetime\n",
        "\n",
        "today=date.today()\n",
        "bday=date(today.year,6,30)\n",
        "diff= (bday-today).days \n",
        "if diff>0:\n",
        "  print(\"Birthday in %d days\" % diff)\n",
        "else:\n",
        "  #print(\"Birthday in %d days\" % diff)\n",
        "  print(\"Birthday in %d days\" % (diff+365))"
      ],
      "execution_count": null,
      "outputs": [
        {
          "output_type": "stream",
          "text": [
            "Birthday in 215 days\n"
          ],
          "name": "stdout"
        }
      ]
    },
    {
      "cell_type": "code",
      "metadata": {
        "colab": {
          "base_uri": "https://localhost:8080/",
          "height": 235
        },
        "id": "5zuyRDpQ-EOA",
        "outputId": "ab6ec46b-51f8-48a7-8e59-12e630084f23"
      },
      "source": [
        "f=9\n",
        "# print(f)\n",
        "\n",
        "\n",
        "# f=\"and\"\n",
        "# print(f)\n",
        "\n",
        "# print(\"this is a string \" + str(123))\n",
        "\n",
        "def localFunction():\n",
        "    global f\n",
        "    f=\"abc\" \n",
        "    print(f)\n",
        "\n",
        "localFunction()\n",
        "print(f)\n",
        "\n",
        "del f\n",
        "print(f)"
      ],
      "execution_count": null,
      "outputs": [
        {
          "output_type": "stream",
          "text": [
            "abc\n",
            "abc\n"
          ],
          "name": "stdout"
        },
        {
          "output_type": "error",
          "ename": "NameError",
          "evalue": "ignored",
          "traceback": [
            "\u001b[0;31m---------------------------------------------------------------------------\u001b[0m",
            "\u001b[0;31mNameError\u001b[0m                                 Traceback (most recent call last)",
            "\u001b[0;32m<ipython-input-10-fa8a67c3c0f2>\u001b[0m in \u001b[0;36m<module>\u001b[0;34m()\u001b[0m\n\u001b[1;32m     17\u001b[0m \u001b[0;34m\u001b[0m\u001b[0m\n\u001b[1;32m     18\u001b[0m \u001b[0;32mdel\u001b[0m \u001b[0mf\u001b[0m\u001b[0;34m\u001b[0m\u001b[0;34m\u001b[0m\u001b[0m\n\u001b[0;32m---> 19\u001b[0;31m \u001b[0mprint\u001b[0m\u001b[0;34m(\u001b[0m\u001b[0mf\u001b[0m\u001b[0;34m)\u001b[0m\u001b[0;34m\u001b[0m\u001b[0;34m\u001b[0m\u001b[0m\n\u001b[0m",
            "\u001b[0;31mNameError\u001b[0m: name 'f' is not defined"
          ]
        }
      ]
    },
    {
      "cell_type": "code",
      "metadata": {
        "colab": {
          "base_uri": "https://localhost:8080/",
          "height": 235
        },
        "id": "of4oxV67xk2I",
        "outputId": "fa50aa49-697f-42ae-e269-343c62f513fb"
      },
      "source": [
        "x=9\n",
        "print (x)\n",
        "x=\"abc\"\n",
        "print(x)\n",
        "\n",
        "del x\n",
        "print(x)"
      ],
      "execution_count": null,
      "outputs": [
        {
          "output_type": "stream",
          "text": [
            "9\n",
            "abc\n"
          ],
          "name": "stdout"
        },
        {
          "output_type": "error",
          "ename": "NameError",
          "evalue": "ignored",
          "traceback": [
            "\u001b[0;31m---------------------------------------------------------------------------\u001b[0m",
            "\u001b[0;31mNameError\u001b[0m                                 Traceback (most recent call last)",
            "\u001b[0;32m<ipython-input-5-7f545bd99bd6>\u001b[0m in \u001b[0;36m<module>\u001b[0;34m()\u001b[0m\n\u001b[1;32m      5\u001b[0m \u001b[0;34m\u001b[0m\u001b[0m\n\u001b[1;32m      6\u001b[0m \u001b[0;32mdel\u001b[0m \u001b[0mx\u001b[0m\u001b[0;34m\u001b[0m\u001b[0;34m\u001b[0m\u001b[0m\n\u001b[0;32m----> 7\u001b[0;31m \u001b[0mprint\u001b[0m\u001b[0;34m(\u001b[0m\u001b[0mx\u001b[0m\u001b[0;34m)\u001b[0m\u001b[0;34m\u001b[0m\u001b[0;34m\u001b[0m\u001b[0m\n\u001b[0m",
            "\u001b[0;31mNameError\u001b[0m: name 'x' is not defined"
          ]
        }
      ]
    },
    {
      "cell_type": "code",
      "metadata": {
        "colab": {
          "base_uri": "https://localhost:8080/"
        },
        "id": "i6bRAz_WEDnh",
        "outputId": "0dd928f3-ca74-4e7b-a124-15476567d19c"
      },
      "source": [
        "def workingWithFunction():\n",
        "    print(\"phrase within the function\")\n",
        "\n",
        "\n",
        "workingWithFunction()\n",
        "print(workingWithFunction())\n",
        "print(workingWithFunction)"
      ],
      "execution_count": null,
      "outputs": [
        {
          "output_type": "stream",
          "text": [
            "phrase within the function\n",
            "phrase within the function\n",
            "None\n",
            "<function workingWithFunction at 0x7f6c61022158>\n"
          ],
          "name": "stdout"
        }
      ]
    },
    {
      "cell_type": "code",
      "metadata": {
        "colab": {
          "base_uri": "https://localhost:8080/"
        },
        "id": "P-HfwhNAF9Jq",
        "outputId": "5bd33107-0815-4de6-c3d0-b9ac4301ddee"
      },
      "source": [
        "def FunctionTest(arg1,arg2):\n",
        "    print(arg1 , \" --> \" , arg2 )\n",
        "\n",
        "def cube (arg):\n",
        "    print(arg)\n",
        "    return arg*arg*arg\n",
        "\n",
        "\n",
        "FunctionTest(10,20)\n",
        "print(FunctionTest(10,20))\n",
        "cube(2)\n",
        "print(cube(2))"
      ],
      "execution_count": null,
      "outputs": [
        {
          "output_type": "stream",
          "text": [
            "10  -->  20\n",
            "10  -->  20\n",
            "None\n",
            "2\n",
            "2\n",
            "8\n"
          ],
          "name": "stdout"
        }
      ]
    },
    {
      "cell_type": "code",
      "metadata": {
        "colab": {
          "base_uri": "https://localhost:8080/"
        },
        "id": "4uwbNYMVH4L0",
        "outputId": "485ff8ae-09cc-4b7c-e583-b496230b2bc8"
      },
      "source": [
        "def power(num,x=1):\n",
        "    result=1\n",
        "    for i in range(x):\n",
        "        result = result * num\n",
        "    return result\n",
        "\n",
        "print (power(2))\n",
        "print (power(2,3))\n",
        "print (power(x=2,num=3))\n",
        "\n",
        "\n",
        "\n"
      ],
      "execution_count": null,
      "outputs": [
        {
          "output_type": "stream",
          "text": [
            "2\n",
            "8\n",
            "9\n"
          ],
          "name": "stdout"
        }
      ]
    },
    {
      "cell_type": "code",
      "metadata": {
        "colab": {
          "base_uri": "https://localhost:8080/"
        },
        "id": "6WBfkBb4KN3E",
        "outputId": "22d0d51c-e2d8-4d24-db5d-dbc34a3ba511"
      },
      "source": [
        "def multi_arg(*arg):\n",
        "    result=0    \n",
        "    for x in arg:\n",
        "        result= result + x\n",
        "    return result\n",
        "\n",
        "\n",
        "print (multi_arg(2,1,1))"
      ],
      "execution_count": null,
      "outputs": [
        {
          "output_type": "stream",
          "text": [
            "4\n"
          ],
          "name": "stdout"
        }
      ]
    },
    {
      "cell_type": "code",
      "metadata": {
        "colab": {
          "base_uri": "https://localhost:8080/"
        },
        "id": "NX5mk28jMIug",
        "outputId": "8a96ac03-fc85-4254-fe5e-09cda2059817"
      },
      "source": [
        "def main():\n",
        "    x, y = 10, 100\n",
        "\n",
        "    if (x < y):\n",
        "        st = \"x eh menor que y\"\n",
        "        print (st)\n",
        "    elif(x==y):\n",
        "        st = \"sao iguais\"\n",
        "        print (st)\n",
        "    else:\n",
        "        st = \"x eh maior que y\"\n",
        "        print (st) \n",
        "\n",
        "    st = \"x eh menor que y\" if (x<y) else \"x eh maior que y\"\n",
        "    print (st)\n",
        "if __name__ == \"__main__\":\n",
        "  main()\n",
        "\n",
        "\n"
      ],
      "execution_count": null,
      "outputs": [
        {
          "output_type": "stream",
          "text": [
            "x eh menor que y\n",
            "x eh menor que y\n"
          ],
          "name": "stdout"
        }
      ]
    },
    {
      "cell_type": "code",
      "metadata": {
        "colab": {
          "base_uri": "https://localhost:8080/"
        },
        "id": "ZTVJ9P_ZMN72",
        "outputId": "690e7e99-dc56-410e-ab5c-00faf14ea16f"
      },
      "source": [
        "def main():\n",
        "    x = 0\n",
        "    while (x < 5):\n",
        "        print(x)\n",
        "        x = x + 1\n",
        "\n",
        "if __name__ == \"__main__\":\n",
        "    main()\n"
      ],
      "execution_count": null,
      "outputs": [
        {
          "output_type": "stream",
          "text": [
            "0\n",
            "1\n",
            "2\n",
            "3\n",
            "4\n"
          ],
          "name": "stdout"
        }
      ]
    },
    {
      "cell_type": "code",
      "metadata": {
        "colab": {
          "base_uri": "https://localhost:8080/"
        },
        "id": "QcADcyXbSJ2o",
        "outputId": "d6647fb7-9e37-4b3d-8761-49167160a110"
      },
      "source": [
        "def main():\n",
        "    for x in range(5,10):\n",
        "      print(x)\n",
        "\n",
        "\n",
        "\n",
        "    names = [\"abc\",\"dfg\",\"zaz\"]\n",
        "\n",
        "    for x in names:\n",
        "        print(x)\n",
        "\n",
        "\n",
        "if __name__ == \"__main__\":\n",
        "    main()"
      ],
      "execution_count": null,
      "outputs": [
        {
          "output_type": "stream",
          "text": [
            "5\n",
            "6\n",
            "7\n",
            "8\n",
            "9\n",
            "abc\n",
            "dfg\n",
            "zaz\n"
          ],
          "name": "stdout"
        }
      ]
    },
    {
      "cell_type": "code",
      "metadata": {
        "colab": {
          "base_uri": "https://localhost:8080/"
        },
        "id": "zD_cOiMyTaa5",
        "outputId": "a55edc68-f4cd-4ba5-b7e1-31ddbdb8ae89"
      },
      "source": [
        "def main():\n",
        "    for x in range(5,10):\n",
        "      print(\"dentro\", x)\n",
        "      #if (x==7): break\n",
        "      if (x % 2 == 0): continue\n",
        "    print(\"fora\", x)\n",
        "    \n",
        "\n",
        "\n",
        "\n",
        "if __name__ == \"__main__\":\n",
        "    main()"
      ],
      "execution_count": null,
      "outputs": [
        {
          "output_type": "stream",
          "text": [
            "dentro 5\n",
            "dentro 6\n",
            "dentro 7\n",
            "dentro 8\n",
            "dentro 9\n",
            "fora 9\n"
          ],
          "name": "stdout"
        }
      ]
    },
    {
      "cell_type": "code",
      "metadata": {
        "colab": {
          "base_uri": "https://localhost:8080/"
        },
        "id": "7Vcj0QCsm5ek",
        "outputId": "a6456c8f-ea20-42af-ef46-43baf299415b"
      },
      "source": [
        "import math\n",
        "\n",
        "print(\" raiz quadrada de 16 é :\", math.sqrt(16))\n",
        "\n",
        "print(\"O numero PI é de :\", math.pi)\n",
        "\n"
      ],
      "execution_count": null,
      "outputs": [
        {
          "output_type": "stream",
          "text": [
            " raiz quadrada de 16 é : 4.0\n",
            "O numero PI é de : 3.141592653589793\n"
          ],
          "name": "stdout"
        }
      ]
    },
    {
      "cell_type": "code",
      "metadata": {
        "colab": {
          "base_uri": "https://localhost:8080/"
        },
        "id": "RaZI5WXMuGU1",
        "outputId": "7944e381-e2dd-442f-9761-7241d371dd9c"
      },
      "source": [
        "def inc(a,b=1):\n",
        "    return(a+b)\n",
        "a=inc(1)\n",
        "a=inc(a,a)\n",
        "print(a)"
      ],
      "execution_count": null,
      "outputs": [
        {
          "output_type": "stream",
          "text": [
            "4\n"
          ],
          "name": "stdout"
        }
      ]
    },
    {
      "cell_type": "code",
      "metadata": {
        "colab": {
          "base_uri": "https://localhost:8080/"
        },
        "id": "So3UqmD7v9aS",
        "outputId": "3779ee36-d164-4e2c-a9da-b3c15fa2d83d"
      },
      "source": [
        "#annual=0\n",
        "def SetAnnual():\n",
        "  global annual \n",
        "  annual = 10000\n",
        "def PrintMonthly():\n",
        "    print(\"Your monthly payment is \"+str(annual/12)+\" USD.\")\n",
        "SetAnnual()\n",
        "PrintMonthly()"
      ],
      "execution_count": null,
      "outputs": [
        {
          "output_type": "stream",
          "text": [
            "Your monthly payment is 833.3333333333334 USD.\n"
          ],
          "name": "stdout"
        }
      ]
    },
    {
      "cell_type": "code",
      "metadata": {
        "colab": {
          "base_uri": "https://localhost:8080/"
        },
        "id": "MjOCsF4xxaOM",
        "outputId": "b779a3ed-1b8b-4313-d21e-3da3a6788457"
      },
      "source": [
        "x, y = 10, 100\n",
        "max = x if (x>y) else y\n",
        "\n",
        "print (max)"
      ],
      "execution_count": null,
      "outputs": [
        {
          "output_type": "stream",
          "text": [
            "100\n"
          ],
          "name": "stdout"
        }
      ]
    },
    {
      "cell_type": "code",
      "metadata": {
        "colab": {
          "base_uri": "https://localhost:8080/",
          "height": 322
        },
        "id": "xt8pu-HLylei",
        "outputId": "07a3afb1-16ad-4755-a68c-ac06edad3f72"
      },
      "source": [
        "\n",
        "\n",
        "def Sum10th(data):\n",
        "  sum=0\n",
        "  for i,d in enumerate(data):\n",
        "    if (i * 0 == 0): sum=sum+d\n",
        "  return sum\n",
        "\n",
        "Sum10th(data = 1)\n"
      ],
      "execution_count": null,
      "outputs": [
        {
          "output_type": "error",
          "ename": "TypeError",
          "evalue": "ignored",
          "traceback": [
            "\u001b[0;31m---------------------------------------------------------------------------\u001b[0m",
            "\u001b[0;31mTypeError\u001b[0m                                 Traceback (most recent call last)",
            "\u001b[0;32m<ipython-input-85-e6e613f4721b>\u001b[0m in \u001b[0;36m<module>\u001b[0;34m()\u001b[0m\n\u001b[1;32m      7\u001b[0m   \u001b[0;32mreturn\u001b[0m \u001b[0msum\u001b[0m\u001b[0;34m\u001b[0m\u001b[0;34m\u001b[0m\u001b[0m\n\u001b[1;32m      8\u001b[0m \u001b[0;34m\u001b[0m\u001b[0m\n\u001b[0;32m----> 9\u001b[0;31m \u001b[0mSum10th\u001b[0m\u001b[0;34m(\u001b[0m\u001b[0mdata\u001b[0m \u001b[0;34m=\u001b[0m \u001b[0;36m1\u001b[0m\u001b[0;34m)\u001b[0m\u001b[0;34m\u001b[0m\u001b[0;34m\u001b[0m\u001b[0m\n\u001b[0m",
            "\u001b[0;32m<ipython-input-85-e6e613f4721b>\u001b[0m in \u001b[0;36mSum10th\u001b[0;34m(data)\u001b[0m\n\u001b[1;32m      3\u001b[0m \u001b[0;32mdef\u001b[0m \u001b[0mSum10th\u001b[0m\u001b[0;34m(\u001b[0m\u001b[0mdata\u001b[0m\u001b[0;34m)\u001b[0m\u001b[0;34m:\u001b[0m\u001b[0;34m\u001b[0m\u001b[0;34m\u001b[0m\u001b[0m\n\u001b[1;32m      4\u001b[0m   \u001b[0msum\u001b[0m\u001b[0;34m=\u001b[0m\u001b[0;36m0\u001b[0m\u001b[0;34m\u001b[0m\u001b[0;34m\u001b[0m\u001b[0m\n\u001b[0;32m----> 5\u001b[0;31m   \u001b[0;32mfor\u001b[0m \u001b[0mi\u001b[0m\u001b[0;34m,\u001b[0m\u001b[0md\u001b[0m \u001b[0;32min\u001b[0m \u001b[0menumerate\u001b[0m\u001b[0;34m(\u001b[0m\u001b[0mdata\u001b[0m\u001b[0;34m)\u001b[0m\u001b[0;34m:\u001b[0m\u001b[0;34m\u001b[0m\u001b[0;34m\u001b[0m\u001b[0m\n\u001b[0m\u001b[1;32m      6\u001b[0m     \u001b[0;32mif\u001b[0m \u001b[0;34m(\u001b[0m\u001b[0mi\u001b[0m \u001b[0;34m*\u001b[0m \u001b[0;36m0\u001b[0m \u001b[0;34m==\u001b[0m \u001b[0;36m0\u001b[0m\u001b[0;34m)\u001b[0m\u001b[0;34m:\u001b[0m \u001b[0msum\u001b[0m\u001b[0;34m=\u001b[0m\u001b[0msum\u001b[0m\u001b[0;34m+\u001b[0m\u001b[0md\u001b[0m\u001b[0;34m\u001b[0m\u001b[0;34m\u001b[0m\u001b[0m\n\u001b[1;32m      7\u001b[0m   \u001b[0;32mreturn\u001b[0m \u001b[0msum\u001b[0m\u001b[0;34m\u001b[0m\u001b[0;34m\u001b[0m\u001b[0m\n",
            "\u001b[0;31mTypeError\u001b[0m: 'int' object is not iterable"
          ]
        }
      ]
    },
    {
      "cell_type": "code",
      "metadata": {
        "colab": {
          "base_uri": "https://localhost:8080/"
        },
        "id": "J3zWmhunF5n5",
        "outputId": "6dd89c7f-2ce0-4b3f-f19a-85ee21f852cf"
      },
      "source": [
        "def main():\n",
        "    f = open(\"textfile1.txt\", \"w+\")\n",
        "    for i in range(10):\n",
        "       f.write (\"bla bla \" + str (i) + \"\\r\\n\")\n",
        "\n",
        "    f.close   \n",
        "\n",
        "    f = open(\"textfile1.txt\", \"r\")\n",
        "    if f.mode == \"r\":\n",
        "        contents = f.read()\n",
        "        print (contents)\n",
        "\n",
        "if __name__ == \"__main__\":\n",
        "    main()"
      ],
      "execution_count": null,
      "outputs": [
        {
          "output_type": "stream",
          "text": [
            "bla bla 0\n",
            "bla bla 1\n",
            "bla bla 2\n",
            "bla bla 3\n",
            "bla bla 4\n",
            "bla bla 5\n",
            "bla bla 6\n",
            "bla bla 7\n",
            "bla bla 8\n",
            "bla bla 9\n",
            "\n"
          ],
          "name": "stdout"
        }
      ]
    },
    {
      "cell_type": "code",
      "metadata": {
        "colab": {
          "base_uri": "https://localhost:8080/"
        },
        "id": "jJlsQgZFI73N",
        "outputId": "289d2720-e07a-4c63-df9f-810a238a8029"
      },
      "source": [
        "import os\n",
        "from os import path\n",
        "import datetime\n",
        "from datetime import date, time, timedelta\n",
        "import time\n",
        "\n",
        "#print (os.name)\n",
        "def main ():\n",
        "  \n",
        "  print (\"File exists: \" + str (path.exists(\"textfile1.txt\")))\n",
        "  print (\"item path\" + str(path.realpath(\"textfile1.txt\")))\n",
        "\n",
        "  t = time.ctime(path.getmtime(\"textfile1.txt\"))\n",
        "  print(t)\n",
        "\n",
        "if __name__ == \"__main__\":\n",
        "    main()\n"
      ],
      "execution_count": null,
      "outputs": [
        {
          "output_type": "stream",
          "text": [
            "File exists: True\n",
            "item path/content/textfile1.txt\n",
            "Fri Nov 27 19:13:34 2020\n"
          ],
          "name": "stdout"
        }
      ]
    },
    {
      "cell_type": "code",
      "metadata": {
        "id": "jNcxTZL8L35U"
      },
      "source": [
        "import os\n",
        "from os import path\n",
        "import shutil\n",
        "\n",
        "def main ():\n",
        "\n",
        "    if path.exists(\"textfile1.txt\"):\n",
        "        src = path.realpath(\"textfile1.txt\")\n",
        "        dst = src + \".bak\"\n",
        "        shutil.copy(src,dst)\n",
        "\n",
        "\n",
        "\n",
        "if __name__ == \"__main__\":\n",
        "    main()"
      ],
      "execution_count": null,
      "outputs": []
    },
    {
      "cell_type": "code",
      "metadata": {
        "colab": {
          "base_uri": "https://localhost:8080/"
        },
        "id": "PXS3Z60YeZ5g",
        "outputId": "8d3a3ddc-7028-4e66-d44f-b0e0845da14f"
      },
      "source": [
        "import urllib.request\n",
        "\n",
        "def main():\n",
        "    webURL = urllib.request.urlopen(\"http://www.google.com\")\n",
        "    print (\"result code : \" + str(webURL.getcode()))\n",
        "    data = webURL.read()\n",
        "    print(data)\n",
        "\n",
        "if __name__ == \"__main__\":\n",
        "    main()"
      ],
      "execution_count": null,
      "outputs": [
        {
          "output_type": "stream",
          "text": [
            "result code : 200\n",
            "b'<!doctype html><html itemscope=\"\" itemtype=\"http://schema.org/WebPage\" lang=\"en\"><head><meta content=\"Search the world\\'s information, including webpages, images, videos and more. Google has many special features to help you find exactly what you\\'re looking for.\" name=\"description\"><meta content=\"noodp\" name=\"robots\"><meta content=\"text/html; charset=UTF-8\" http-equiv=\"Content-Type\"><meta content=\"/images/branding/googleg/1x/googleg_standard_color_128dp.png\" itemprop=\"image\"><title>Google</title><script nonce=\"W9nXFHyXSvsMTnF1tSrHyw==\">(function(){window.google={kEI:\\'H_3EX9GHMIyxtQaj2rGoAg\\',kEXPI:\\'0,202162,1157247,731,223,5104,207,3204,10,1226,364,1499,817,383,246,5,1129,225,648,3451,315,3,65,454,314,217,271,2,11,980,861,231,2948,7,858,828,20,108,1115174,1197778,505,6,12,328966,13677,4855,32692,16114,28684,9188,8384,1326,3533,1361,9290,3022,17587,1960,2060,978,7933,5295,2054,920,873,4192,2784,3646,1142,13386,4517,2777,919,2279,6,2796,1593,1279,2212,530,149,1103,840,517,1466,56,4258,312,1135,1,3,2063,606,2023,1777,143,377,1947,2229,93,328,1284,461,2482,2247,3599,3227,2845,7,12354,4454,642,7876,4929,108,3407,908,2,941,2614,2397,6335,1135,1,2842,432,3,346,1200,44,1,820,1,4623,151,3024,2964,6299,1686,4,1528,2304,1236,271,874,405,1861,1815,577,74,20,443,42,1212,125,4,137,1107,1056,17,446,460,1555,1300,2491,276,2351,3,610,4096,69,305,1016,1294,357,1157,603,1,693,1753,2658,239,975,2692,1,336,518,914,29,533,299,205,177,8,429,32,1303,374,607,1570,139,1671,1212,211,990,52,3030,255,2214,850,655,800,638,37,629,828,130,475,2,210,357,916,1884,261,1025,6,320,1748,613,55,744,612,3226,776,2,73,808,59,260,230,559,28,11,731,64,601,337,513,2,1293,1391,377,2,772,223,890,157,1999,349,52,308,171,514,49,118,472,113,2,180,120,848,58,778,7,81,253,3,19,36,242,112,83,907,1,29,690,114,312,612,6,100,808,3,163,1,38,387,2,3,2,2,715,214,1340,658,16,1,687,119,116,25,2,566,486,317,749,78,549,437,905,642,11,237,151,479,41,2,957,56,240,102,4,865,269,2,200,179,816,4,2,7,622,180,784,283,2,5,2,8,83,80,440,1770,5728854,3863,5996836,2801217,549,333,444,1,2,80,1,900,896,1,9,2,2551,1,748,141,59,736,563,1,4265,1,1,2,1017,9,305,3299,248,595,1,1878,147,4,63,92,23,3,2,5,27,6,1,23958010,2700441,15696,24565,1595\\',kBL:\\'5Uqh\\'};google.sn=\\'webhp\\';google.kHL=\\'en\\';})();(function(){google.lc=[];google.li=0;google.getEI=function(a){for(var c;a&&(!a.getAttribute||!(c=a.getAttribute(\"eid\")));)a=a.parentNode;return c||google.kEI};google.getLEI=function(a){for(var c=null;a&&(!a.getAttribute||!(c=a.getAttribute(\"leid\")));)a=a.parentNode;return c};google.ml=function(){return null};google.time=function(){return Date.now()};google.log=function(a,c,b,d,g){if(b=google.logUrl(a,c,b,d,g)){a=new Image;var e=google.lc,f=google.li;e[f]=a;a.onerror=a.onload=a.onabort=function(){delete e[f]};google.vel&&google.vel.lu&&google.vel.lu(b);a.src=b;google.li=f+1}};google.logUrl=function(a,c,b,d,g){var e=\"\",f=google.ls||\"\";b||-1!=c.search(\"&ei=\")||(e=\"&ei=\"+google.getEI(d),-1==c.search(\"&lei=\")&&(d=google.getLEI(d))&&(e+=\"&lei=\"+d));d=\"\";!b&&google.cshid&&-1==c.search(\"&cshid=\")&&\"slh\"!=a&&(d=\"&cshid=\"+google.cshid);b=b||\"/\"+(g||\"gen_204\")+\"?atyp=i&ct=\"+a+\"&cad=\"+c+e+f+\"&zx=\"+google.time()+d;/^http:/i.test(b)&&\"https:\"==window.location.protocol&&(google.ml(Error(\"a\"),!1,{src:b,glmm:1}),b=\"\");return b};}).call(this);(function(){google.y={};google.x=function(a,b){if(a)var c=a.id;else{do c=Math.random();while(google.y[c])}google.y[c]=[a,b];return!1};google.lm=[];google.plm=function(a){google.lm.push.apply(google.lm,a)};google.lq=[];google.load=function(a,b,c){google.lq.push([[a],b,c])};google.loadAll=function(a,b){google.lq.push([a,b])};}).call(this);google.f={};(function(){\\ndocument.documentElement.addEventListener(\"submit\",function(b){var a;if(a=b.target){var c=a.getAttribute(\"data-submitfalse\");a=\"1\"==c||\"q\"==c&&!a.elements.q.value?!0:!1}else a=!1;a&&(b.preventDefault(),b.stopPropagation())},!0);document.documentElement.addEventListener(\"click\",function(b){var a;a:{for(a=b.target;a&&a!=document.documentElement;a=a.parentElement)if(\"A\"==a.tagName){a=\"1\"==a.getAttribute(\"data-nohref\");break a}a=!1}a&&b.preventDefault()},!0);}).call(this);\\nvar a=window.location,b=a.href.indexOf(\"#\");if(0<=b){var c=a.href.substring(b+1);/(^|&)q=/.test(c)&&-1==c.indexOf(\"#\")&&a.replace(\"/search?\"+c.replace(/(^|&)fp=[^&]*/g,\"\")+\"&cad=h\")};</script><style>#gbar,#guser{font-size:13px;padding-top:1px !important;}#gbar{height:22px}#guser{padding-bottom:7px !important;text-align:right}.gbh,.gbd{border-top:1px solid #c9d7f1;font-size:1px}.gbh{height:0;position:absolute;top:24px;width:100%}@media all{.gb1{height:22px;margin-right:.5em;vertical-align:top}#gbar{float:left}}a.gb1,a.gb4{text-decoration:underline !important}a.gb1,a.gb4{color:#00c !important}.gbi .gb4{color:#dd8e27 !important}.gbf .gb4{color:#900 !important}\\n</style><style>body,td,a,p,.h{font-family:arial,sans-serif}body{margin:0;overflow-y:scroll}#gog{padding:3px 8px 0}td{line-height:.8em}.gac_m td{line-height:17px}form{margin-bottom:20px}.h{color:#1558d6}em{font-weight:bold;font-style:normal}.lst{height:25px;width:496px}.gsfi,.lst{font:18px arial,sans-serif}.gsfs{font:17px arial,sans-serif}.ds{display:inline-box;display:inline-block;margin:3px 0 4px;margin-left:4px}input{font-family:inherit}body{background:#fff;color:#000}a{color:#4b11a8;text-decoration:none}a:hover,a:active{text-decoration:underline}.fl a{color:#1558d6}a:visited{color:#4b11a8}.sblc{padding-top:5px}.sblc a{display:block;margin:2px 0;margin-left:13px;font-size:11px}.lsbb{background:#f8f9fa;border:solid 1px;border-color:#dadce0 #70757a #70757a #dadce0;height:30px}.lsbb{display:block}#WqQANb a{display:inline-block;margin:0 12px}.lsb{background:url(/images/nav_logo229.png) 0 -261px repeat-x;border:none;color:#000;cursor:pointer;height:30px;margin:0;outline:0;font:15px arial,sans-serif;vertical-align:top}.lsb:active{background:#dadce0}.lst:focus{outline:none}</style><script nonce=\"W9nXFHyXSvsMTnF1tSrHyw==\"></script></head><body bgcolor=\"#fff\"><script nonce=\"W9nXFHyXSvsMTnF1tSrHyw==\">(function(){var src=\\'/images/nav_logo229.png\\';var iesg=false;document.body.onload = function(){window.n && window.n();if (document.images){new Image().src=src;}\\nif (!iesg){document.f&&document.f.q.focus();document.gbqf&&document.gbqf.q.focus();}\\n}\\n})();</script><div id=\"mngb\"><div id=gbar><nobr><b class=gb1>Search</b> <a class=gb1 href=\"http://www.google.com/imghp?hl=en&tab=wi\">Images</a> <a class=gb1 href=\"http://maps.google.com/maps?hl=en&tab=wl\">Maps</a> <a class=gb1 href=\"https://play.google.com/?hl=en&tab=w8\">Play</a> <a class=gb1 href=\"http://www.youtube.com/?gl=US&tab=w1\">YouTube</a> <a class=gb1 href=\"https://news.google.com/?tab=wn\">News</a> <a class=gb1 href=\"https://mail.google.com/mail/?tab=wm\">Gmail</a> <a class=gb1 href=\"https://drive.google.com/?tab=wo\">Drive</a> <a class=gb1 style=\"text-decoration:none\" href=\"https://www.google.com/intl/en/about/products?tab=wh\"><u>More</u> &raquo;</a></nobr></div><div id=guser width=100%><nobr><span id=gbn class=gbi></span><span id=gbf class=gbf></span><span id=gbe></span><a href=\"http://www.google.com/history/optout?hl=en\" class=gb4>Web History</a> | <a  href=\"/preferences?hl=en\" class=gb4>Settings</a> | <a target=_top id=gb_70 href=\"https://accounts.google.com/ServiceLogin?hl=en&passive=true&continue=http://www.google.com/&ec=GAZAAQ\" class=gb4>Sign in</a></nobr></div><div class=gbh style=left:0></div><div class=gbh style=right:0></div></div><center><br clear=\"all\" id=\"lgpd\"><div id=\"lga\"><img alt=\"Google\" height=\"92\" src=\"/images/branding/googlelogo/1x/googlelogo_white_background_color_272x92dp.png\" style=\"padding:28px 0 14px\" width=\"272\" id=\"hplogo\"><br><br></div><form action=\"/search\" name=\"f\"><table cellpadding=\"0\" cellspacing=\"0\"><tr valign=\"top\"><td width=\"25%\">&nbsp;</td><td align=\"center\" nowrap=\"\"><input name=\"ie\" value=\"ISO-8859-1\" type=\"hidden\"><input value=\"en\" name=\"hl\" type=\"hidden\"><input name=\"source\" type=\"hidden\" value=\"hp\"><input name=\"biw\" type=\"hidden\"><input name=\"bih\" type=\"hidden\"><div class=\"ds\" style=\"height:32px;margin:4px 0\"><input class=\"lst\" style=\"margin:0;padding:5px 8px 0 6px;vertical-align:top;color:#000\" autocomplete=\"off\" value=\"\" title=\"Google Search\" maxlength=\"2048\" name=\"q\" size=\"57\"></div><br style=\"line-height:0\"><span class=\"ds\"><span class=\"lsbb\"><input class=\"lsb\" value=\"Google Search\" name=\"btnG\" type=\"submit\"></span></span><span class=\"ds\"><span class=\"lsbb\"><input class=\"lsb\" id=\"tsuid1\" value=\"I\\'m Feeling Lucky\" name=\"btnI\" type=\"submit\"><script nonce=\"W9nXFHyXSvsMTnF1tSrHyw==\">(function(){var id=\\'tsuid1\\';document.getElementById(id).onclick = function(){if (this.form.q.value){this.checked = 1;if (this.form.iflsig)this.form.iflsig.disabled = false;}\\nelse top.location=\\'/doodles/\\';};})();</script><input value=\"AINFCbYAAAAAX8ULL4jMUKC-jacfrGQJoeLVfPTc5gUh\" name=\"iflsig\" type=\"hidden\"></span></span></td><td class=\"fl sblc\" align=\"left\" nowrap=\"\" width=\"25%\"><a href=\"/advanced_search?hl=en&amp;authuser=0\">Advanced search</a></td></tr></table><input id=\"gbv\" name=\"gbv\" type=\"hidden\" value=\"1\"><script nonce=\"W9nXFHyXSvsMTnF1tSrHyw==\">(function(){var a,b=\"1\";if(document&&document.getElementById)if(\"undefined\"!=typeof XMLHttpRequest)b=\"2\";else if(\"undefined\"!=typeof ActiveXObject){var c,d,e=[\"MSXML2.XMLHTTP.6.0\",\"MSXML2.XMLHTTP.3.0\",\"MSXML2.XMLHTTP\",\"Microsoft.XMLHTTP\"];for(c=0;d=e[c++];)try{new ActiveXObject(d),b=\"2\"}catch(h){}}a=b;if(\"2\"==a&&-1==location.search.indexOf(\"&gbv=2\")){var f=google.gbvu,g=document.getElementById(\"gbv\");g&&(g.value=a);f&&window.setTimeout(function(){location.href=f},0)};}).call(this);</script></form><div id=\"gac_scont\"></div><div style=\"font-size:83%;min-height:3.5em\"><br><div id=\"prm\"><style>.szppmdbYutt__middle-slot-promo{font-size:small;margin-bottom:32px}.szppmdbYutt__middle-slot-promo a.ZIeIlb{display:inline-block;text-decoration:none}.szppmdbYutt__middle-slot-promo img{border:none;margin-right:5px;vertical-align:middle}</style><div class=\"szppmdbYutt__middle-slot-promo\" data-ved=\"0ahUKEwiRk_n6uKrtAhWMWM0KHSNtDCUQnIcBCAQ\"><img height=\"48\" src=\"https://www.google.com/images/hpp/google-store-icon-2x-240hdpi.png\" width=\"46\"><span>Cyber Monday savings are now live on the </span><a class=\"NKcBbd\" href=\"https://www.google.com/url?q=https://store.google.com/%3Futm_source%3Dhpp%26utm_medium%3Dgoogle_oo%26utm_campaign%3DGS105977&amp;source=hpp&amp;id=19021977&amp;ct=3&amp;usg=AFQjCNHVMvyvS8pqd_FLm7602dgKiEIVGw&amp;sa=X&amp;ved=0ahUKEwiRk_n6uKrtAhWMWM0KHSNtDCUQ8IcBCAU\" rel=\"nofollow\">Google Store</a></div></div></div><span id=\"footer\"><div style=\"font-size:10pt\"><div style=\"margin:19px auto;text-align:center\" id=\"WqQANb\"><a href=\"/intl/en/ads/\">Advertising\\xa0Programs</a><a href=\"/services/\">Business Solutions</a><a href=\"/intl/en/about.html\">About Google</a></div></div><p style=\"font-size:8pt;color:#70757a\">&copy; 2020 - <a href=\"/intl/en/policies/privacy/\">Privacy</a> - <a href=\"/intl/en/policies/terms/\">Terms</a></p></span></center><script nonce=\"W9nXFHyXSvsMTnF1tSrHyw==\">(function(){window.google.cdo={height:0,width:0};(function(){var a=window.innerWidth,b=window.innerHeight;if(!a||!b){var c=window.document,d=\"CSS1Compat\"==c.compatMode?c.documentElement:c.body;a=d.clientWidth;b=d.clientHeight}a&&b&&(a!=google.cdo.width||b!=google.cdo.height)&&google.log(\"\",\"\",\"/client_204?&atyp=i&biw=\"+a+\"&bih=\"+b+\"&ei=\"+google.kEI);}).call(this);})();(function(){var u=\\'/xjs/_/js/k\\\\x3dxjs.hp.en_US.2oZ0If4QYFA.O/m\\\\x3dsb_he,d/am\\\\x3dADxBHA/d\\\\x3d1/rs\\\\x3dACT90oGwMok1cfOw2m2-mDDM4cPXzshBlw\\';\\nvar c=this||self,e=/^[\\\\w+/_-]+[=]{0,2}$/,f=null,g=function(a){return(a=a.querySelector&&a.querySelector(\"script[nonce]\"))&&(a=a.nonce||a.getAttribute(\"nonce\"))&&e.test(a)?a:\"\"},h=function(a){return a};var l;var n=function(a,b){this.a=b===m?a:\"\"},m={};setTimeout(function(){var a=document;var b=\"SCRIPT\";\"application/xhtml+xml\"===a.contentType&&(b=b.toLowerCase());b=a.createElement(b);a=u;if(void 0===l){var d=null;var k=c.trustedTypes;if(k&&k.createPolicy){try{d=k.createPolicy(\"goog#html\",{createHTML:h,createScript:h,createScriptURL:h})}catch(p){c.console&&c.console.error(p.message)}l=d}else l=d}a=(d=l)?d.createScriptURL(a):a;a=new n(a,m);b.src=a instanceof n&&a.constructor===n?a.a:\"type_error:TrustedResourceUrl\";(a=b.ownerDocument&&b.ownerDocument.defaultView)&&\\na!=c?a=g(a.document):(null===f&&(f=g(c.document)),a=f);a&&b.setAttribute(\"nonce\",a);google.timers&&google.timers.load&&google.tick&&google.tick(\"load\",\"xjsls\");document.body.appendChild(b)},0);})();(function(){window.google.xjsu=\\'/xjs/_/js/k\\\\x3dxjs.hp.en_US.2oZ0If4QYFA.O/m\\\\x3dsb_he,d/am\\\\x3dADxBHA/d\\\\x3d1/rs\\\\x3dACT90oGwMok1cfOw2m2-mDDM4cPXzshBlw\\';})();function _DumpException(e){throw e;}\\nfunction _F_installCss(c){}\\n(function(){google.jl={dw:false,em:[],emw:false,lls:\\'default\\',pdt:0,snet:true,uwp:true};})();(function(){var pmc=\\'{\\\\x22d\\\\x22:{},\\\\x22sb_he\\\\x22:{\\\\x22agen\\\\x22:true,\\\\x22cgen\\\\x22:true,\\\\x22client\\\\x22:\\\\x22heirloom-hp\\\\x22,\\\\x22dh\\\\x22:true,\\\\x22dhqt\\\\x22:true,\\\\x22ds\\\\x22:\\\\x22\\\\x22,\\\\x22ffql\\\\x22:\\\\x22en\\\\x22,\\\\x22fl\\\\x22:true,\\\\x22host\\\\x22:\\\\x22google.com\\\\x22,\\\\x22isbh\\\\x22:28,\\\\x22jsonp\\\\x22:true,\\\\x22msgs\\\\x22:{\\\\x22cibl\\\\x22:\\\\x22Clear Search\\\\x22,\\\\x22dym\\\\x22:\\\\x22Did you mean:\\\\x22,\\\\x22lcky\\\\x22:\\\\x22I\\\\\\\\u0026#39;m Feeling Lucky\\\\x22,\\\\x22lml\\\\x22:\\\\x22Learn more\\\\x22,\\\\x22oskt\\\\x22:\\\\x22Input tools\\\\x22,\\\\x22psrc\\\\x22:\\\\x22This search was removed from your \\\\\\\\u003Ca href\\\\x3d\\\\\\\\\\\\x22/history\\\\\\\\\\\\x22\\\\\\\\u003EWeb History\\\\\\\\u003C/a\\\\\\\\u003E\\\\x22,\\\\x22psrl\\\\x22:\\\\x22Remove\\\\x22,\\\\x22sbit\\\\x22:\\\\x22Search by image\\\\x22,\\\\x22srch\\\\x22:\\\\x22Google Search\\\\x22},\\\\x22nrft\\\\x22:false,\\\\x22ovr\\\\x22:{},\\\\x22pq\\\\x22:\\\\x22\\\\x22,\\\\x22refpd\\\\x22:true,\\\\x22rfs\\\\x22:[],\\\\x22sbas\\\\x22:\\\\x220 3px 8px 0 rgba(0,0,0,0.2),0 0 0 1px rgba(0,0,0,0.08)\\\\x22,\\\\x22sbpl\\\\x22:16,\\\\x22sbpr\\\\x22:16,\\\\x22scd\\\\x22:10,\\\\x22stok\\\\x22:\\\\x22TF_5frg8bZYpabkQ_KYomMdMVuk\\\\x22,\\\\x22uhde\\\\x22:false}}\\';google.pmc=JSON.parse(pmc);})();</script>        </body></html>'\n"
          ],
          "name": "stdout"
        }
      ]
    },
    {
      "cell_type": "code",
      "metadata": {
        "id": "FjThy7DiMK7s"
      },
      "source": [
        ""
      ],
      "execution_count": null,
      "outputs": []
    },
    {
      "cell_type": "code",
      "metadata": {
        "colab": {
          "base_uri": "https://localhost:8080/"
        },
        "id": "M72KeYzB4sft",
        "outputId": "72cfd747-690f-40f5-e335-4f73c9cff16b"
      },
      "source": [
        "#\n",
        "# Example file for parsing and processing JSON\n",
        "#\n",
        "\n",
        "import urllib.request  # instead of urllib2 like in Python 2.7\n",
        "import json\n",
        "\n",
        "\n",
        "def printResults(data):\n",
        "    # Use the json module to load the string data into a dictionary\n",
        "    theJSON = json.loads(data)\n",
        "\n",
        "    # now we can access the contents of the JSON like any other Python object\n",
        "    if \"title\" in theJSON[\"metadata\"]:\n",
        "        print(theJSON[\"metadata\"][\"title\"])\n",
        "\n",
        "    # output the number of events, plus the magnitude and each event name\n",
        "    count = theJSON[\"metadata\"][\"count\"]\n",
        "    print(str(count) + \" events recorded\")\n",
        "\n",
        "    # for each event, print the place where it occurred\n",
        "    for i in theJSON[\"features\"]:\n",
        "        print(i[\"properties\"][\"place\"])\n",
        "    print(\"--------------\\n\")\n",
        "\n",
        "    # print the events that only have a magnitude greater than 4\n",
        "    for i in theJSON[\"features\"]:\n",
        "        if i[\"properties\"][\"mag\"] >= 4.0:\n",
        "            print(\"%2.1f\" % i[\"properties\"][\"mag\"], i[\"properties\"][\"place\"])\n",
        "    print(\"--------------\\n\")\n",
        "\n",
        "    # print only the events where at least 1 person reported feeling something\n",
        "    print(\"\\n\\nEvents that were felt:\")\n",
        "    for i in theJSON[\"features\"]:\n",
        "        feltReports = i[\"properties\"][\"felt\"]\n",
        "        if (feltReports != None):\n",
        "            if (feltReports > 0):\n",
        "                print(\"%2.1f\" % i[\"properties\"][\"mag\"], i[\"properties\"]\n",
        "                      [\"place\"], \" reported \" + str(feltReports) + \" times\")\n",
        "\n",
        "\n",
        "def main():\n",
        "    # define a variable to hold the source URL\n",
        "    # In this case we'll use the free data feed from the USGS\n",
        "    # This feed lists all earthquakes for the last day larger than Mag 2.5\n",
        "    urlData = \"https://earthquake.usgs.gov/earthquakes/feed/v1.0/summary/2.5_day.geojson\"\n",
        "\n",
        "    # Open the URL and read the data\n",
        "    webUrl = urllib.request.urlopen(urlData)\n",
        "    print(\"result code: \" + str(webUrl.getcode()))\n",
        "    if (webUrl.getcode() == 200):\n",
        "        data = webUrl.read().decode(\"utf-8\")\n",
        "        # print out our customized results\n",
        "        printResults(data)\n",
        "    else:\n",
        "        print(\"Received an error from server, cannot retrieve results \" +\n",
        "              str(webUrl.getcode()))\n",
        "\n",
        "\n",
        "if __name__ == \"__main__\":\n",
        "    main()\n"
      ],
      "execution_count": null,
      "outputs": [
        {
          "output_type": "stream",
          "text": [
            "result code: 200\n",
            "USGS Magnitude 2.5+ Earthquakes, Past Day\n",
            "46 events recorded\n",
            "77 km S of Mil’kovo, Russia\n",
            "8 km SSE of Maria Antonia, Puerto Rico\n",
            "50 km N of Gazli, Uzbekistan\n",
            "16 km ENE of Ḩamāh, Syria\n",
            "6 km WSW of Guánica, Puerto Rico\n",
            "62 km SSW of Jurm, Afghanistan\n",
            "5 km SW of Volcano, Hawaii\n",
            "28 km SSE of Mina, Nevada\n",
            "16 km WSW of Las Salinas, Dominican Republic\n",
            "70 km SW of Kaktovik, Alaska\n",
            "33 km NE of Benton, California\n",
            "19 km S of Pa‘auilo, Hawaii\n",
            "42 km SSE of Circle, Alaska\n",
            "34 km NE of Benton, California\n",
            "Puerto Rico region\n",
            "15 km NNW of Stanley, Idaho\n",
            "Fiji region\n",
            "3 km SW of Indios, Puerto Rico\n",
            "105 km NNE of Calama, Chile\n",
            "southern Idaho\n",
            "26 km E of Nikolski, Alaska\n",
            "12km SW of Toms Place, CA\n",
            "59 km NNE of Karluk, Alaska\n",
            "19 km WNW of Stanley, Idaho\n",
            "6 km WSW of Guánica, Puerto Rico\n",
            "15 km ESE of Honaunau-Napoopoo, Hawaii\n",
            "88 km SSE of Ugashik, Alaska\n",
            "42 km ESE of Nelson Lagoon, Alaska\n",
            "155 km NNW of Neiafu, Tonga\n",
            "135 km NW of Neiafu, Tonga\n",
            "86 km NE of Punta Cana, Dominican Republic\n",
            "15km WSW of Searles Valley, CA\n",
            "85 km W of Salamatof, Alaska\n",
            "Kermadec Islands region\n",
            "3 km SSW of Guánica, Puerto Rico\n",
            "19 km SW of San Joaquin, Philippines\n",
            "Mariana Islands region\n",
            "97 km NW of Elfin Cove, Alaska\n",
            "16 km NNW of Stanley, Idaho\n",
            "102 km NNW of San Antonio, Puerto Rico\n",
            "48 km E of Punta Cana, Dominican Republic\n",
            "13 km W of Clam Gulch, Alaska\n",
            "northern Alaska\n",
            "42 km ENE of Eltham, New Zealand\n",
            "Southwest Indian Ridge\n",
            "34 km E of Humahuaca, Argentina\n",
            "--------------\n",
            "\n",
            "4.5 77 km S of Mil’kovo, Russia\n",
            "4.7 50 km N of Gazli, Uzbekistan\n",
            "4.4 16 km ENE of Ḩamāh, Syria\n",
            "4.1 62 km SSW of Jurm, Afghanistan\n",
            "4.6 16 km WSW of Las Salinas, Dominican Republic\n",
            "4.5 Fiji region\n",
            "4.4 105 km NNE of Calama, Chile\n",
            "5.4 26 km E of Nikolski, Alaska\n",
            "5.0 155 km NNW of Neiafu, Tonga\n",
            "5.7 135 km NW of Neiafu, Tonga\n",
            "5.3 Kermadec Islands region\n",
            "4.9 19 km SW of San Joaquin, Philippines\n",
            "4.2 Mariana Islands region\n",
            "4.6 42 km ENE of Eltham, New Zealand\n",
            "5.0 Southwest Indian Ridge\n",
            "5.8 34 km E of Humahuaca, Argentina\n",
            "--------------\n",
            "\n",
            "\n",
            "\n",
            "Events that were felt:\n",
            "4.4 16 km ENE of Ḩamāh, Syria  reported 3 times\n",
            "3.2 5 km SW of Volcano, Hawaii  reported 15 times\n",
            "4.6 16 km WSW of Las Salinas, Dominican Republic  reported 1 times\n",
            "2.9 34 km NE of Benton, California  reported 2 times\n",
            "3.0 3 km SW of Indios, Puerto Rico  reported 2 times\n",
            "2.8 southern Idaho  reported 1 times\n",
            "5.4 26 km E of Nikolski, Alaska  reported 4 times\n",
            "2.7 12km SW of Toms Place, CA  reported 4 times\n",
            "3.1 15km WSW of Searles Valley, CA  reported 22 times\n",
            "5.3 Kermadec Islands region  reported 1 times\n",
            "2.5 16 km NNW of Stanley, Idaho  reported 2 times\n",
            "3.1 13 km W of Clam Gulch, Alaska  reported 2 times\n",
            "4.6 42 km ENE of Eltham, New Zealand  reported 3 times\n",
            "5.8 34 km E of Humahuaca, Argentina  reported 11 times\n"
          ],
          "name": "stdout"
        }
      ]
    },
    {
      "cell_type": "code",
      "metadata": {
        "colab": {
          "base_uri": "https://localhost:8080/"
        },
        "id": "MRqnjyJf5LWU",
        "outputId": "800cde63-9846-4b5f-909f-a7065360627a"
      },
      "source": [
        "# \n",
        "# Example file for parsing and processing XML\n",
        "#\n",
        "\n",
        "import xml.dom.minidom\n",
        "\n",
        "def main():\n",
        "  # use the parse() function to load and parse an XML file\n",
        "  doc = xml.dom.minidom.parse(\"samplexml.xml\")\n",
        "  \n",
        "  # print out the document node and the name of the first child tag\n",
        "  print (doc.nodeName)\n",
        "  print (doc.firstChild.tagName)\n",
        "  \n",
        "  # get a list of XML tags from the document and print each one\n",
        "  skills = doc.getElementsByTagName(\"skill\")\n",
        "  print (\"%d skills:\" % skills.length)\n",
        "  for skill in skills:\n",
        "    print (skill.getAttribute(\"name\"))\n",
        "    \n",
        "  # create a new XML tag and add it into the document\n",
        "  newSkill = doc.createElement(\"skill\")\n",
        "  newSkill.setAttribute(\"name\", \"jQuery\")\n",
        "  doc.firstChild.appendChild(newSkill)\n",
        "\n",
        "  skills = doc.getElementsByTagName(\"skill\")\n",
        "  print (\"%d skills:\" % skills.length)\n",
        "  for skill in skills:\n",
        "    print (skill.getAttribute(\"name\"))\n",
        "        \n",
        "if __name__ == \"__main__\":\n",
        "  main()\n",
        "\n"
      ],
      "execution_count": null,
      "outputs": [
        {
          "output_type": "stream",
          "text": [
            "#document\n",
            "person\n",
            "4 skills:\n",
            "JavaScript\n",
            "Python\n",
            "C#\n",
            "HTML\n",
            "5 skills:\n",
            "JavaScript\n",
            "Python\n",
            "C#\n",
            "HTML\n",
            "jQuery\n"
          ],
          "name": "stdout"
        }
      ]
    },
    {
      "cell_type": "code",
      "metadata": {
        "colab": {
          "base_uri": "https://localhost:8080/",
          "height": 166
        },
        "id": "dWZZp9QYANYl",
        "outputId": "ccafdc99-4c94-4f0b-ffcb-9742ae7cde08"
      },
      "source": [
        "file.upload()"
      ],
      "execution_count": null,
      "outputs": [
        {
          "output_type": "error",
          "ename": "NameError",
          "evalue": "ignored",
          "traceback": [
            "\u001b[0;31m---------------------------------------------------------------------------\u001b[0m",
            "\u001b[0;31mNameError\u001b[0m                                 Traceback (most recent call last)",
            "\u001b[0;32m<ipython-input-6-61a9f5d5f327>\u001b[0m in \u001b[0;36m<module>\u001b[0;34m()\u001b[0m\n\u001b[0;32m----> 1\u001b[0;31m \u001b[0mfile\u001b[0m\u001b[0;34m.\u001b[0m\u001b[0mupload\u001b[0m\u001b[0;34m(\u001b[0m\u001b[0;34m)\u001b[0m\u001b[0;34m\u001b[0m\u001b[0;34m\u001b[0m\u001b[0m\n\u001b[0m",
            "\u001b[0;31mNameError\u001b[0m: name 'file' is not defined"
          ]
        }
      ]
    },
    {
      "cell_type": "code",
      "metadata": {
        "colab": {
          "base_uri": "https://localhost:8080/"
        },
        "id": "Q85jdQMK5O-s",
        "outputId": "3d046239-a99d-49c4-ab1a-381475dd868b"
      },
      "source": [
        "# \n",
        "# Example file for parsing and processing HTML\n",
        "#\n",
        "\n",
        "# import the HTMLParser module\n",
        "# in Python 3 you need to import from html.parser\n",
        "from html.parser import HTMLParser\n",
        "\n",
        "metacount = 0\n",
        "\n",
        "# create a subclass of HTMLParser and override the handler methods\n",
        "class MyHTMLParser(HTMLParser):\n",
        "  # function to handle an opening tag in the doc\n",
        "  # this will be called when the closing \">\" of the tag is reached\n",
        "  def handle_starttag(self, tag, attrs):\n",
        "    global metacount\n",
        "    if tag == \"meta\":\n",
        "      metacount += 1\n",
        "\n",
        "    print (\"Encountered a start tag:\", tag)\n",
        "    pos = self.getpos() # returns a tuple indication line and character\n",
        "    print (\"\\tAt line: \", pos[0], \" position \", pos[1])\n",
        "\n",
        "    if attrs.__len__() > 0:\n",
        "      print (\"\\tAttributes:\")\n",
        "      for a in attrs:\n",
        "        print (\"\\t\", a[0],\"=\",a[1])\n",
        "      \n",
        "  # function to handle the ending tag\n",
        "  def handle_endtag(self, tag):\n",
        "    print (\"Encountered an end tag:\", tag)\n",
        "    pos = self.getpos()\n",
        "    print (\"\\tAt line: \", pos[0], \" position \", pos[1])\n",
        "    \n",
        "  # function to handle character and text data (tag contents)\n",
        "  def handle_data(self, data):\n",
        "    if (data.isspace()):\n",
        "      return\n",
        "    print (\"Encountered some text data:\", data)\n",
        "    pos = self.getpos()\n",
        "    print (\"\\tAt line: \", pos[0], \" position \", pos[1])\n",
        "  \n",
        "  # function to handle the processing of HTML comments\n",
        "  def handle_comment(self, data):\n",
        "    print (\"Encountered comment:\", data)\n",
        "    pos = self.getpos()\n",
        "    print (\"\\tAt line: \", pos[0], \" position \", pos[1])\n",
        "\n",
        "def main():\n",
        "  # instantiate the parser and feed it some HTML\n",
        "  parser = MyHTMLParser()\n",
        "    \n",
        "  # open the sample HTML file and read it\n",
        "  f = open(\"samplehtml.html\")\n",
        "  if f.mode == \"r\":\n",
        "    contents = f.read() # read the entire file\n",
        "    parser.feed(contents)\n",
        "  \n",
        "  print (\"%d meta tags encountered\" % metacount)\n",
        "\n",
        "if __name__ == \"__main__\":\n",
        "  main();\n",
        "  "
      ],
      "execution_count": null,
      "outputs": [
        {
          "output_type": "stream",
          "text": [
            "Encountered a start tag: html\n",
            "\tAt line:  2  position  0\n",
            "\tAttributes:\n",
            "\t lang = en\n",
            "Encountered a start tag: head\n",
            "\tAt line:  3  position  2\n",
            "Encountered a start tag: meta\n",
            "\tAt line:  4  position  4\n",
            "\tAttributes:\n",
            "\t charset = utf-8\n",
            "Encountered an end tag: meta\n",
            "\tAt line:  4  position  4\n",
            "Encountered a start tag: title\n",
            "\tAt line:  5  position  4\n",
            "Encountered some text data: Sample HTML Document\n",
            "\tAt line:  5  position  11\n",
            "Encountered an end tag: title\n",
            "\tAt line:  5  position  31\n",
            "Encountered a start tag: meta\n",
            "\tAt line:  6  position  4\n",
            "\tAttributes:\n",
            "\t name = description\n",
            "\t content = This is a sample HTML file\n",
            "Encountered an end tag: meta\n",
            "\tAt line:  6  position  4\n",
            "Encountered a start tag: meta\n",
            "\tAt line:  7  position  4\n",
            "\tAttributes:\n",
            "\t name = author\n",
            "\t content = Administrator\n",
            "Encountered an end tag: meta\n",
            "\tAt line:  7  position  4\n",
            "Encountered a start tag: meta\n",
            "\tAt line:  8  position  4\n",
            "\tAttributes:\n",
            "\t name = viewport\n",
            "\t content = width=device-width; initial-scale=1.0\n",
            "Encountered an end tag: meta\n",
            "\tAt line:  8  position  4\n",
            "Encountered comment:  Replace favicon.ico & apple-touch-icon.png in the root of your domain and delete these references \n",
            "\tAt line:  9  position  4\n",
            "Encountered a start tag: link\n",
            "\tAt line:  10  position  4\n",
            "\tAttributes:\n",
            "\t rel = shortcut icon\n",
            "\t href = /favicon.ico\n",
            "Encountered an end tag: link\n",
            "\tAt line:  10  position  4\n",
            "Encountered a start tag: link\n",
            "\tAt line:  11  position  4\n",
            "\tAttributes:\n",
            "\t rel = apple-touch-icon\n",
            "\t href = /apple-touch-icon.png\n",
            "Encountered an end tag: link\n",
            "\tAt line:  11  position  4\n",
            "Encountered an end tag: head\n",
            "\tAt line:  12  position  2\n",
            "Encountered a start tag: body\n",
            "\tAt line:  14  position  2\n",
            "Encountered a start tag: div\n",
            "\tAt line:  15  position  4\n",
            "Encountered a start tag: header\n",
            "\tAt line:  16  position  6\n",
            "Encountered a start tag: h1\n",
            "\tAt line:  17  position  8\n",
            "Encountered some text data: HTML Sample File\n",
            "\tAt line:  17  position  12\n",
            "Encountered an end tag: h1\n",
            "\tAt line:  17  position  28\n",
            "Encountered an end tag: header\n",
            "\tAt line:  18  position  6\n",
            "Encountered a start tag: nav\n",
            "\tAt line:  19  position  6\n",
            "Encountered a start tag: p\n",
            "\tAt line:  20  position  8\n",
            "Encountered a start tag: a\n",
            "\tAt line:  21  position  10\n",
            "\tAttributes:\n",
            "\t href = /\n",
            "Encountered some text data: Home\n",
            "\tAt line:  21  position  22\n",
            "Encountered an end tag: a\n",
            "\tAt line:  21  position  26\n",
            "Encountered an end tag: p\n",
            "\tAt line:  22  position  8\n",
            "Encountered a start tag: p\n",
            "\tAt line:  23  position  8\n",
            "Encountered a start tag: a\n",
            "\tAt line:  24  position  10\n",
            "\tAttributes:\n",
            "\t href = /contact\n",
            "Encountered some text data: Contact\n",
            "\tAt line:  24  position  29\n",
            "Encountered an end tag: a\n",
            "\tAt line:  24  position  36\n",
            "Encountered an end tag: p\n",
            "\tAt line:  25  position  8\n",
            "Encountered an end tag: nav\n",
            "\tAt line:  26  position  6\n",
            "Encountered a start tag: div\n",
            "\tAt line:  27  position  6\n",
            "Encountered an end tag: div\n",
            "\tAt line:  29  position  6\n",
            "Encountered a start tag: footer\n",
            "\tAt line:  30  position  6\n",
            "Encountered a start tag: p\n",
            "\tAt line:  31  position  8\n",
            "Encountered some text data: © Copyright by Administrator\n",
            "\tAt line:  31  position  11\n",
            "Encountered an end tag: p\n",
            "\tAt line:  31  position  44\n",
            "Encountered an end tag: footer\n",
            "\tAt line:  32  position  6\n",
            "Encountered an end tag: div\n",
            "\tAt line:  33  position  4\n",
            "Encountered an end tag: body\n",
            "\tAt line:  34  position  2\n",
            "Encountered an end tag: html\n",
            "\tAt line:  35  position  0\n",
            "4 meta tags encountered\n"
          ],
          "name": "stdout"
        }
      ]
    },
    {
      "cell_type": "code",
      "metadata": {
        "id": "_RwXsSXGdpWD"
      },
      "source": [
        "# imports go on their own lines\n",
        "import sys\n",
        "import os\n",
        "\n",
        "\n",
        "# two blank lines separate classes from other functions\n",
        "class MyClass():\n",
        "    def __init__(self):\n",
        "        self.prop1 = \"my class\"\n",
        "\n",
        "    # within classes, one blank line separates methods\n",
        "    def method1(self, arg1):\n",
        "        pass\n",
        "\n",
        "\n",
        "def main():\n",
        "    # Long comments, like this one that flow across several lines, are\n",
        "    # limited to 72 characters instead of 79 for lines of code.\n",
        "    cls1 = MyClass()\n",
        "    cls1.prop1 = \"hello world\"\n",
        "\n",
        "\n",
        "if __name__ == \"__main__\":\n",
        "    main()\n"
      ],
      "execution_count": null,
      "outputs": []
    }
  ]
}